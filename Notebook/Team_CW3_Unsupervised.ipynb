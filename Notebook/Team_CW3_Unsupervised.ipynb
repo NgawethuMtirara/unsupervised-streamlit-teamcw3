{
 "cells": [
  {
   "cell_type": "markdown",
   "id": "10314586",
   "metadata": {},
   "source": [
    "# Movie Recommendation Predict"
   ]
  },
  {
   "cell_type": "markdown",
   "id": "6430c42c",
   "metadata": {},
   "source": [
    "![image info](https://user-images.githubusercontent.com/33485020/108069438-5ee79d80-7089-11eb-8264-08fdda7e0d11.jpg)"
   ]
  },
  {
   "cell_type": "markdown",
   "id": "1814765d",
   "metadata": {},
   "source": [
    "### Honour Code\n",
    "\n",
    "Idongesit Bokeime, Ngawetu Mtirara, Daniel Uwaoma, Sibusiso Sibiya, Nonokazi Cele, Mbuyiselo Mkwanazi, Collins Kgooho and Pharis Ihaki (Team_CW3), confirm - by submitting this document - that the solutions in this notebook are a result of my own work and that I abide by the [EDSA honour code](https://drive.google.com/file/d/1QDCjGZJ8-FmJE3bZdIQNwnJyQKPhHZBn/view?usp=sharing).\n",
    "\n",
    "Non-compliance with the honour code constitutes a material breach of contract.\n"
   ]
  },
  {
   "cell_type": "markdown",
   "id": "7a62d74e",
   "metadata": {},
   "source": [
    "### Problem Statement\n",
    "\n",
    "In today’s technology driven world, recommender systems are socially and economically critical for ensuring that individuals can make appropriate choices surrounding the content they engage with on a daily basis. One application where this is especially true surrounds movie content recommendations; where intelligent algorithms can help viewers find great titles from tens of thousands of options.\n",
    "\n",
    "With this context, EDSA is challenging you to construct a recommendation algorithm based on content or collaborative filtering, capable of accurately predicting how a user will rate a movie they have not yet viewed based on their historical preferences.\n",
    "\n",
    "Providing an accurate and robust solution to this challenge has immense economic potential, with users of the system being exposed to content they would like to view or purchase - generating revenue and platform affinity. (To be fixed, copied from kaggle)"
   ]
  },
  {
   "cell_type": "markdown",
   "id": "11e3ea31",
   "metadata": {},
   "source": [
    "### Objectives\n",
    "\n",
    "1.   Explore and visualize the dataset.\n",
    "2.   Clean and engineer the dataset.\n",
    "3.   Build multiple models that will analyse sentiments on climate change      make the necesssary predictions.\n",
    "4.   Assess the accuracy of the models.\n",
    "5.   Choose the best model to make predictions."
   ]
  },
  {
   "cell_type": "markdown",
   "id": "e4593781",
   "metadata": {},
   "source": [
    "# Table of contents:\n",
    "- [1. Import libraries and datasets](#section-one)\n",
    "  * [1.1. Loading the data](#subsection-one)\n",
    "- [2. Dataset at a glance](#section-two)\n",
    "- [3. Preprocessing](#section-three)\n",
    "  * [3.1. Add new column](#subsection-one)\n",
    "  * [3.2. Hashtag extraction](#subsection-two)\n",
    "  * [3.3. Cleaning the corpus](#subsection-three)\n",
    "  * [3.4. Parts of speech tagging and lemmatization](#subsection-four)\n",
    "  * [3.5. Word frequency](#subsection-five)\n",
    "  * [3.6. Named entity extraction](#subsection-six)\n",
    "- [4. Exploratory data analysis](#section-four)\n",
    "  * [4.1. Target variable distribution](#subsection-one)\n",
    "  * [4.2. Tweet length distribution](#subsection-two)\n",
    "  * [4.3. Climate change buzzwords](#subsection-three)\n",
    "  * [4.4. Hashtags](#subsection-four)\n",
    "  * [4.5. Named Entity Recognition](#subsection-five)\n",
    "- [5. Model building](#section-five)\n",
    "  * [5.1. Train-validation split](#subsection-one)\n",
    "  * [5.2. Pipelines](#subsection-three)\n",
    "  * [5.3. Model training](#subsection-four)\n",
    "- [6. Model evaluation](#section-six)\n",
    "  * [6.1. Logging on Comet](#subsection-one)\n",
    "  * [6.2. Hyperparameter Tuning](#ubsection-two)\n",
    "- [7. Conclusion](#section-seven)\n",
    "- [8. Submission](#section-eight)\n",
    "- [9. References](#section-nine)"
   ]
  },
  {
   "cell_type": "markdown",
   "id": "59c7456d",
   "metadata": {},
   "source": [
    " <a id=\"two\"></a>\n",
    "## 1. Importing Packages"
   ]
  },
  {
   "cell_type": "markdown",
   "id": "217268f5",
   "metadata": {},
   "source": [
    "<a id=\"three\"></a>\n",
    "### 1.1. Loading the Data\n",
    "<a class=\"anchor\" id=\"1.1\">"
   ]
  },
  {
   "cell_type": "markdown",
   "id": "185eec56",
   "metadata": {},
   "source": [
    "<a id=\"section-two\"></a>\n",
    "## 2. Dataset at a glance"
   ]
  },
  {
   "cell_type": "markdown",
   "id": "1933e885",
   "metadata": {},
   "source": [
    "<a id=\"section-two\"></a>\n",
    "## 3. Exploratory data analysis"
   ]
  },
  {
   "cell_type": "markdown",
   "id": "19f461fd",
   "metadata": {},
   "source": [
    "<a id=\"section-two\"></a>\n",
    "## 4. Feature Engineering"
   ]
  },
  {
   "cell_type": "markdown",
   "id": "cc303395",
   "metadata": {},
   "source": [
    "<a id=\"section-two\"></a>\n",
    "## 5. Recommender Systems"
   ]
  },
  {
   "cell_type": "markdown",
   "id": "d9ee48eb",
   "metadata": {},
   "source": [
    "<a id=\"three\"></a>\n",
    "### 5.1. Content Filtering-Based Recommender System\n",
    "<a class=\"anchor\" id=\"1.1\">"
   ]
  },
  {
   "cell_type": "markdown",
   "id": "a1364de7",
   "metadata": {},
   "source": [
    "<a id=\"three\"></a>\n",
    "### 5.2. Collaborative Filtering-Based Recommender System\n",
    "<a class=\"anchor\" id=\"1.1\">"
   ]
  },
  {
   "cell_type": "markdown",
   "id": "b36dd655",
   "metadata": {},
   "source": [
    "<a id=\"section-six\"></a>\n",
    "## 6. Model evaluation"
   ]
  },
  {
   "cell_type": "markdown",
   "id": "bae86fcb",
   "metadata": {},
   "source": [
    "<a id=\"section-seven\"></a>\n",
    "## 7. Model Selection "
   ]
  },
  {
   "cell_type": "markdown",
   "id": "fbf55c4a",
   "metadata": {},
   "source": [
    "<a id=\"section-seven\"></a>\n",
    "## 8. Conclusion"
   ]
  },
  {
   "cell_type": "markdown",
   "id": "d8fae74f",
   "metadata": {},
   "source": [
    "<a id=\"section-eight\"></a>\n",
    "## 9. Submission"
   ]
  },
  {
   "cell_type": "markdown",
   "id": "f70c76b7",
   "metadata": {},
   "source": [
    "<a id=\"three\"></a>\n",
    "### 9.1. Creating pickle files of the models\n",
    "<a class=\"anchor\" id=\"1.1\">"
   ]
  },
  {
   "cell_type": "markdown",
   "id": "5bc2b89d",
   "metadata": {},
   "source": [
    "<a id=\"three\"></a>\n",
    "### 9.2.  Creating kaggle submission file\n",
    "<a class=\"anchor\" id=\"1.1\">"
   ]
  },
  {
   "cell_type": "markdown",
   "id": "1c66baab",
   "metadata": {},
   "source": [
    "<a id=\"section-nine\"></a>\n",
    "## 10. References "
   ]
  }
 ],
 "metadata": {
  "kernelspec": {
   "display_name": "Python 3 (ipykernel)",
   "language": "python",
   "name": "python3"
  },
  "language_info": {
   "codemirror_mode": {
    "name": "ipython",
    "version": 3
   },
   "file_extension": ".py",
   "mimetype": "text/x-python",
   "name": "python",
   "nbconvert_exporter": "python",
   "pygments_lexer": "ipython3",
   "version": "3.9.13"
  }
 },
 "nbformat": 4,
 "nbformat_minor": 5
}
